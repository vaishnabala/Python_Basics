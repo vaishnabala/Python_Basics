{
 "cells": [
  {
   "cell_type": "markdown",
   "metadata": {},
   "source": [
    "Native Datatypes:\n",
    "1.Booleans are either True or False.\n",
    "2.Numbers can be integers (1 and 2), floats (1.1 and 1.2), fractions (1/2 and 2/3), or even complex numbers.\n",
    "3.Strings are sequences of Unicode characters, e.g. an html document.\n",
    "4.Bytes and byte arrays, e.g. a jpeg image file.\n",
    "5.Lists are ordered sequences of values.\n",
    "6.Tuples are ordered, immutable sequences of values.\n",
    "7.Sets are unordered bags of values.\n",
    "8.Dictionaries are unordered bags of key-value pairs."
   ]
  },
  {
   "cell_type": "code",
   "execution_count": 12,
   "metadata": {},
   "outputs": [
    {
     "data": {
      "text/plain": [
       "-1"
      ]
     },
     "execution_count": 12,
     "metadata": {},
     "output_type": "execute_result"
    }
   ],
   "source": [
    "size = -1"
   ]
  },
  {
   "cell_type": "code",
   "execution_count": 5,
   "metadata": {},
   "outputs": [
    {
     "data": {
      "text/plain": [
       "False"
      ]
     },
     "execution_count": 5,
     "metadata": {},
     "output_type": "execute_result"
    }
   ],
   "source": [
    "size>0"
   ]
  },
  {
   "cell_type": "code",
   "execution_count": 7,
   "metadata": {},
   "outputs": [
    {
     "data": {
      "text/plain": [
       "True"
      ]
     },
     "execution_count": 7,
     "metadata": {},
     "output_type": "execute_result"
    }
   ],
   "source": [
    "size<0"
   ]
  },
  {
   "cell_type": "code",
   "execution_count": 11,
   "metadata": {},
   "outputs": [
    {
     "data": {
      "text/plain": [
       "2"
      ]
     },
     "execution_count": 11,
     "metadata": {},
     "output_type": "execute_result"
    }
   ],
   "source": [
    "True + True"
   ]
  },
  {
   "cell_type": "code",
   "execution_count": 10,
   "metadata": {},
   "outputs": [
    {
     "data": {
      "text/plain": [
       "True"
      ]
     },
     "execution_count": 10,
     "metadata": {},
     "output_type": "execute_result"
    }
   ],
   "source": [
    "bool (True + True)"
   ]
  },
  {
   "cell_type": "code",
   "execution_count": 14,
   "metadata": {},
   "outputs": [
    {
     "name": "stdout",
     "output_type": "stream",
     "text": [
      "2\n",
      "1\n",
      "1\n",
      "0\n"
     ]
    }
   ],
   "source": [
    "print(True + True)\n",
    "print(True + False)\n",
    "print(True -False)\n",
    "print(True * False)\n",
    "# print(True / False) # Error"
   ]
  },
  {
   "cell_type": "code",
   "execution_count": 15,
   "metadata": {},
   "outputs": [
    {
     "name": "stdout",
     "output_type": "stream",
     "text": [
      "True\n",
      "True\n",
      "True\n",
      "False\n"
     ]
    }
   ],
   "source": [
    "print(bool (True + True))\n",
    "print(bool (True + False))\n",
    "print(bool (True -False))\n",
    "print(bool (True * False))"
   ]
  },
  {
   "cell_type": "markdown",
   "metadata": {},
   "source": [
    "<h1>Numbers</h1>"
   ]
  },
  {
   "cell_type": "code",
   "execution_count": 7,
   "metadata": {},
   "outputs": [
    {
     "name": "stdout",
     "output_type": "stream",
     "text": [
      "The Datatype of '1' is <class 'int'>\n",
      "Is the given input integer? True\n"
     ]
    }
   ],
   "source": [
    "print(\"The Datatype of '1' is\", type(1))\n",
    "print(\"Is the given input integer?\",isinstance(1, int))"
   ]
  },
  {
   "cell_type": "code",
   "execution_count": 8,
   "metadata": {},
   "outputs": [
    {
     "name": "stdout",
     "output_type": "stream",
     "text": [
      "The Datatype of '2.0' is <class 'float'>\n",
      "Is the given input integer? True\n"
     ]
    }
   ],
   "source": [
    "print(\"The Datatype of '2.0' is\", type(2.0))\n",
    "print(\"Is the given input integer?\",isinstance(1.0, float))"
   ]
  },
  {
   "cell_type": "markdown",
   "metadata": {},
   "source": [
    "Coercing Integers to Floats and Vice-Versa"
   ]
  },
  {
   "cell_type": "code",
   "execution_count": 12,
   "metadata": {},
   "outputs": [
    {
     "name": "stdout",
     "output_type": "stream",
     "text": [
      "2.0\n",
      "2\n",
      "2\n",
      "2.5346345354333333\n",
      "-2\n",
      "-2.0\n"
     ]
    }
   ],
   "source": [
    "print(float(2))  # converts '2' to float 2.0\n",
    "print(int(2.0))  # converts'2.0' to int 2\n",
    "print(int(2.5346345354))  # converts'2.5346345354' to int 2 - cons- losing precision\n",
    "print(float(2.534634535433333444455556666))  #Floating point numbers are accurate to 15 decimal places.\n",
    "print(int(-2.5)) # converts'-2.5' to int -2\n",
    "print(float(-2)) # converts'-2' to int -2.0\n",
    "\n",
    "''' Key takeaways:\n",
    "1.Floating point numbers are accurate to 15 decimal points\n",
    "2.int() trucates the values after point - not a floor or round function.\n",
    "'''"
   ]
  },
  {
   "cell_type": "markdown",
   "metadata": {},
   "source": [
    "Operators"
   ]
  },
  {
   "cell_type": "code",
   "execution_count": 17,
   "metadata": {},
   "outputs": [
    {
     "name": "stdout",
     "output_type": "stream",
     "text": [
      "5.5\n",
      "5\n",
      "-6\n",
      "5.0\n",
      "121\n",
      "1\n"
     ]
    }
   ],
   "source": [
    "print(11/2)\n",
    "print(11//2) # integer division\n",
    "print(-11//2)\n",
    "print(11.0//2)\n",
    "print(11**2) # square\n",
    "print(11%2)"
   ]
  },
  {
   "cell_type": "markdown",
   "metadata": {},
   "source": [
    "Fractions"
   ]
  },
  {
   "cell_type": "code",
   "execution_count": 25,
   "metadata": {},
   "outputs": [
    {
     "data": {
      "text/plain": [
       "Fraction(1, 3)"
      ]
     },
     "execution_count": 25,
     "metadata": {},
     "output_type": "execute_result"
    }
   ],
   "source": [
    "import fractions\n",
    "x = fractions.Fraction(1, 3)\n",
    "x"
   ]
  },
  {
   "cell_type": "code",
   "execution_count": 20,
   "metadata": {},
   "outputs": [
    {
     "data": {
      "text/plain": [
       "Fraction(2, 3)"
      ]
     },
     "execution_count": 20,
     "metadata": {},
     "output_type": "execute_result"
    }
   ],
   "source": [
    "x * 2"
   ]
  },
  {
   "cell_type": "code",
   "execution_count": 21,
   "metadata": {},
   "outputs": [
    {
     "data": {
      "text/plain": [
       "Fraction(3, 2)"
      ]
     },
     "execution_count": 21,
     "metadata": {},
     "output_type": "execute_result"
    }
   ],
   "source": [
    "fractions.Fraction(6, 4)"
   ]
  },
  {
   "cell_type": "code",
   "execution_count": 28,
   "metadata": {},
   "outputs": [
    {
     "data": {
      "text/plain": [
       "3.141592653589793"
      ]
     },
     "execution_count": 28,
     "metadata": {},
     "output_type": "execute_result"
    }
   ],
   "source": [
    "import math\n",
    "math.pi"
   ]
  },
  {
   "cell_type": "code",
   "execution_count": 29,
   "metadata": {},
   "outputs": [
    {
     "data": {
      "text/plain": [
       "1.0"
      ]
     },
     "execution_count": 29,
     "metadata": {},
     "output_type": "execute_result"
    }
   ],
   "source": [
    "math.sin(math.pi / 2)"
   ]
  },
  {
   "cell_type": "code",
   "execution_count": 30,
   "metadata": {},
   "outputs": [
    {
     "data": {
      "text/plain": [
       "0.9999999999999999"
      ]
     },
     "execution_count": 30,
     "metadata": {},
     "output_type": "execute_result"
    }
   ],
   "source": [
    "math.tan(math.pi / 4)"
   ]
  },
  {
   "cell_type": "code",
   "execution_count": 31,
   "metadata": {},
   "outputs": [],
   "source": [
    "def is_it_true(anything):\n",
    "    if anything:\n",
    "        print(\"yes, it's true\")\n",
    "    else:\n",
    "        print(\"no, it's false\")"
   ]
  },
  {
   "cell_type": "code",
   "execution_count": 37,
   "metadata": {},
   "outputs": [
    {
     "name": "stdout",
     "output_type": "stream",
     "text": [
      "yes, it's true\n",
      "yes, it's true\n",
      "no, it's false\n",
      "yes, it's true\n",
      "no, it's false\n"
     ]
    }
   ],
   "source": [
    "is_it_true(1)\n",
    "is_it_true(-1)\n",
    "is_it_true(0)\n",
    "is_it_true(0.1)\n",
    "is_it_true(0.0)"
   ]
  },
  {
   "cell_type": "code",
   "execution_count": 38,
   "metadata": {},
   "outputs": [
    {
     "name": "stdout",
     "output_type": "stream",
     "text": [
      "yes, it's true\n",
      "no, it's false\n"
     ]
    }
   ],
   "source": [
    "import fractions\n",
    "is_it_true(fractions.Fraction(1, 2)) \n",
    "is_it_true(fractions.Fraction(0, 1))"
   ]
  },
  {
   "cell_type": "markdown",
   "metadata": {},
   "source": [
    "Lists"
   ]
  },
  {
   "cell_type": "code",
   "execution_count": 40,
   "metadata": {},
   "outputs": [
    {
     "data": {
      "text/plain": [
       "['a', 'b', 'mpilgrim', 'z', 'example']"
      ]
     },
     "execution_count": 40,
     "metadata": {},
     "output_type": "execute_result"
    }
   ],
   "source": [
    "a_list = ['a', 'b', 'Python', 'z', 'example'] \n",
    "print(a_list)\n",
    "print(a_list)"
   ]
  },
  {
   "cell_type": "code",
   "execution_count": 41,
   "metadata": {},
   "outputs": [
    {
     "data": {
      "text/plain": [
       "'a'"
      ]
     },
     "execution_count": 41,
     "metadata": {},
     "output_type": "execute_result"
    }
   ],
   "source": [
    "a_list[0] "
   ]
  },
  {
   "cell_type": "code",
   "execution_count": 42,
   "metadata": {},
   "outputs": [
    {
     "data": {
      "text/plain": [
       "'example'"
      ]
     },
     "execution_count": 42,
     "metadata": {},
     "output_type": "execute_result"
    }
   ],
   "source": [
    "a_list[4]"
   ]
  },
  {
   "cell_type": "code",
   "execution_count": 43,
   "metadata": {},
   "outputs": [
    {
     "data": {
      "text/plain": [
       "'example'"
      ]
     },
     "execution_count": 43,
     "metadata": {},
     "output_type": "execute_result"
    }
   ],
   "source": [
    "a_list[-1]"
   ]
  },
  {
   "cell_type": "code",
   "execution_count": 44,
   "metadata": {},
   "outputs": [
    {
     "data": {
      "text/plain": [
       "'mpilgrim'"
      ]
     },
     "execution_count": 44,
     "metadata": {},
     "output_type": "execute_result"
    }
   ],
   "source": [
    "a_list[-3] # a_list[-n] == a_list[len(a_list) - n]. So in this list, a_list[-3] == a_list[5 - 3] == a_list[2]."
   ]
  },
  {
   "cell_type": "code",
   "execution_count": 48,
   "metadata": {},
   "outputs": [
    {
     "name": "stdout",
     "output_type": "stream",
     "text": [
      "a_list has ['a', 'b', 'mpilgrim', 'z', 'example']\n",
      "Object id of a_list 2897319239104\n",
      "a_list[1:3]  ['b', 'mpilgrim']\n",
      "a_list[1:-1]  ['b', 'mpilgrim', 'z']\n",
      "a_list[0:3]  ['a', 'b', 'mpilgrim']\n",
      "a_list[:3]  ['a', 'b', 'mpilgrim']\n",
      "a_list[3:]  ['z', 'example']\n",
      "a_list[:]  ['a', 'b', 'mpilgrim', 'z', 'example']\n",
      "Object id of a_list[:] 2897306020672\n"
     ]
    }
   ],
   "source": [
    "print(\"a_list has\",a_list) # Displays all\n",
    "print(\"Object id of a_list\",id(a_list)) # Object id of a_list\n",
    "print(\"a_list[1:3] \",a_list[1:3])\n",
    "print(\"a_list[1:-1] \",a_list[1:-1])\n",
    "print(\"a_list[0:3] \",a_list[0:3] ) # returns first three elements from 0 not including a_list[3]\n",
    "print(\"a_list[:3] \",a_list[:3])\n",
    "print(\"a_list[3:] \",a_list[3:])\n",
    "print(\"a_list[:] \",a_list[:]) # Displays all\n",
    "print(\"Object id of a_list[:]\",id(a_list[:])) # it is not same as the first case a_list. a_list[:]is a copy of alist"
   ]
  },
  {
   "cell_type": "markdown",
   "metadata": {},
   "source": [
    "Adding items to a list - Four Ways"
   ]
  },
  {
   "cell_type": "code",
   "execution_count": 53,
   "metadata": {},
   "outputs": [
    {
     "name": "stdout",
     "output_type": "stream",
     "text": [
      "['a']\n",
      "['a', 4.0, 5]\n",
      "[2.0, 3, 'a', 4.0, 5]\n",
      "[2.0, 3, 'a', 4.0, 5, True]\n",
      "[2.0, 3, 'a', 4.0, 5, True, 'four', 'Ω']\n",
      "['Ω', 2.0, 3, 'a', 4.0, 5, True, 'four', 'Ω']\n"
     ]
    }
   ],
   "source": [
    "a_list = ['a']\n",
    "print(a_list)\n",
    "a_list = a_list + [4.0, 5] # concats two lists\n",
    "print(a_list)\n",
    "a_list =  [2.0, 3] + a_list  # concats two lists in a given order\n",
    "print(a_list)\n",
    "a_list.append(True) # appends the list at the end\n",
    "print(a_list)\n",
    "a_list.extend(['four', 'Ω']) # extends the list at the end\n",
    "print(a_list)\n",
    "a_list.insert(0, 'Ω')  # inserts at 0th position\n",
    "print(a_list)"
   ]
  },
  {
   "cell_type": "markdown",
   "metadata": {},
   "source": [
    "Append Vs Extend"
   ]
  },
  {
   "cell_type": "code",
   "execution_count": 4,
   "metadata": {},
   "outputs": [
    {
     "name": "stdout",
     "output_type": "stream",
     "text": [
      "Initial List : ['a', 'b', 'c']\n",
      "Length :  3\n",
      "\n",
      "After applying extend : ['a', 'b', 'c', 'd', 'e', 'f']\n",
      "Length after extending :  6\n",
      "\n",
      "After applying append : ['a', 'b', 'c', 'd', 'e', 'f', ['g', 'h', 'i']]\n",
      "Length after appending :  7\n",
      "\n",
      "First element of the list : a\n",
      "Last element of the list : ['g', 'h', 'i']\n"
     ]
    }
   ],
   "source": [
    "a_list = ['a','b','c']\n",
    "print(\"Initial List :\",a_list)\n",
    "print(\"Length : \",len(a_list))\n",
    "\n",
    "a_list.extend(['d','e','f'])\n",
    "print(\"\\nAfter applying extend :\",a_list)\n",
    "print(\"Length after extending : \",len(a_list))\n",
    "\n",
    "a_list.append(['g','h','i'])\n",
    "print(\"\\nAfter applying append :\",a_list)\n",
    "print(\"Length after appending : \",len(a_list))\n",
    "\n",
    "print(\"\\nFirst element of the list :\",a_list[0])\n",
    "print(\"Last element of the list :\",a_list[-1])\n"
   ]
  },
  {
   "cell_type": "code",
   "execution_count": 18,
   "metadata": {},
   "outputs": [
    {
     "name": "stdout",
     "output_type": "stream",
     "text": [
      "Count of 'c' in th list: 3\n",
      "Checking if 'c' is present in the list: True\n",
      "Checking if 'g' is present in the list: False\n",
      "Printing Index of 'c' in the list: 2\n",
      "Element not found in the list\n"
     ]
    }
   ],
   "source": [
    "a_list = ['a', 'b', 'c', 'd', 'c', 'f','a', 'b', 'c']\n",
    "print(\"Count of 'c' in th list:\",a_list.count('c'))  # 'in' - is faster than count to check the presence of an element in list\n",
    "print(\"Checking if 'c' is present in the list:\",'c'in a_list) # returns in bool datatype\n",
    "print(\"Checking if 'g' is present in the list:\",'g' in a_list) # returns in bool datatype\n",
    "print(\"Printing Index of 'c' in the list:\",a_list.index('c')) # returns the first index only\n",
    "try:\n",
    "    print(\"Printing Index of 'g' in the list:\",a_list.index('g')) # returns the first index only\n",
    "except ValueError:\n",
    "    print(\"Element not found in the list\")"
   ]
  },
  {
   "cell_type": "markdown",
   "metadata": {},
   "source": [
    "Removing elements\n",
    "1. Delete\n",
    "2. Remove\n",
    "3. Pop\n"
   ]
  },
  {
   "cell_type": "markdown",
   "metadata": {},
   "source": [
    "## 1. Delete"
   ]
  },
  {
   "cell_type": "code",
   "execution_count": 21,
   "metadata": {},
   "outputs": [
    {
     "name": "stdout",
     "output_type": "stream",
     "text": [
      "a_list: ['a', 'b', 'c', 'd', 'e']\n",
      "a_list[1]: b\n",
      "a_list: ['a', 'c', 'd', 'e']\n",
      "\n",
      "a_list[1]: c\n"
     ]
    }
   ],
   "source": [
    "a_list = ['a', 'b', 'c', 'd', 'e']\n",
    "print(\"a_list:\", a_list)\n",
    "print(\"a_list[1]:\", a_list[1])\n",
    "del a_list[1]                     # Deletes the element in index 1,after deleting index 1 does not result in an error- next element occupies its space\n",
    "print(\"a_list:\", a_list)          # the gap is filled by next element\n",
    "print(\"a_list[1]:\", a_list[1])   "
   ]
  },
  {
   "cell_type": "markdown",
   "metadata": {},
   "source": [
    "## 2.Remove"
   ]
  },
  {
   "cell_type": "code",
   "execution_count": 23,
   "metadata": {},
   "outputs": [
    {
     "name": "stdout",
     "output_type": "stream",
     "text": [
      "a_list: ['b', 'c', 'a', 'e']\n",
      "a_list: ['b', 'c', 'e']\n",
      "the given Value is not present in the list\n"
     ]
    }
   ],
   "source": [
    "a_list = ['a', 'b', 'c', 'a', 'e']\n",
    "a_list.remove('a')  # removes First occurance of 'a'\n",
    "print(\"a_list:\", a_list)\n",
    "a_list.remove('a')  # removes First occurance of 'a' again\n",
    "print(\"a_list:\", a_list)  # indices are adjusted . Gap filling happens\n",
    "try:\n",
    "    a_list.remove('a')\n",
    "except ValueError:\n",
    "    print(\"the given Value is not present in the list\")"
   ]
  },
  {
   "cell_type": "markdown",
   "metadata": {},
   "source": [
    "## 3. Pop"
   ]
  },
  {
   "cell_type": "code",
   "execution_count": 30,
   "metadata": {},
   "outputs": [
    {
     "name": "stdout",
     "output_type": "stream",
     "text": [
      "a_list: ['a', 'b', 'c', 'a', 'e']\n",
      "Popped Item using a_list.pop(): e\n",
      "a_list: ['a', 'b', 'c', 'a']\n",
      "\n",
      "Popped Item using a_list.pop(1): b\n",
      "a_list: ['a', 'c', 'a']\n",
      "\n",
      "Cannot pop the element in the given index. No Value is present in the index\n"
     ]
    }
   ],
   "source": [
    "a_list = ['a', 'b', 'c', 'a', 'e']\n",
    "print(\"a_list:\", a_list)\n",
    "print(\"Popped Item using a_list.pop():\", a_list.pop()) # removes the last element as no element specified in the argment and returns the value it removed.\n",
    "print(\"a_list:\", a_list)\n",
    "\n",
    "print(\"\\nPopped Item using a_list.pop(1):\", a_list.pop(1)) # removes element in index 1 and fills the gap and returns the value it removed.\n",
    "print(\"a_list:\", a_list)\n",
    "try:    \n",
    "    a_list.pop(4)        # no such index\n",
    "except IndexError:\n",
    "    print(\"\\nCannot pop the element in the given index. No Value is present in the index\")\n"
   ]
  },
  {
   "cell_type": "markdown",
   "metadata": {},
   "source": [
    "### Boolean Datatype"
   ]
  },
  {
   "cell_type": "code",
   "execution_count": 32,
   "metadata": {},
   "outputs": [
    {
     "name": "stdout",
     "output_type": "stream",
     "text": [
      "no, it's false\n",
      "yes, it's true\n",
      "yes, it's true\n"
     ]
    }
   ],
   "source": [
    "def is_it_true(anything):\n",
    "    if anything:\n",
    "        print(\"yes, it's true\")\n",
    "    else:\n",
    "        print(\"no, it's false\")\n",
    "\n",
    "is_it_true([])  # An empty list is false\n",
    "\n",
    "is_it_true(['a'])  # list is not empty, value doen't matter, value exists.\n",
    "\n",
    "is_it_true([False])  # list is not empty, value doen't matter, value exists.\n"
   ]
  },
  {
   "cell_type": "markdown",
   "metadata": {},
   "source": [
    "## Tuple\n",
    "# Immutable List\n",
    "# It cant be changed Once it is created\n",
    "# append, Extend, insert,remove pop - will not work here\n",
    "# By slicing you can create a new one"
   ]
  },
  {
   "cell_type": "code",
   "execution_count": 33,
   "metadata": {},
   "outputs": [
    {
     "name": "stdout",
     "output_type": "stream",
     "text": [
      "('a', 'b', 'c', 'a', 'e')\n",
      "Print a_tuple[0] a\n",
      "a_tuple[-1] e\n",
      "a_tuple[1:3] ('b', 'c')\n"
     ]
    }
   ],
   "source": [
    "a_tuple = ('a', 'b', 'c', 'a', 'e')  # Just like list but the bracket is paranthesis()\n",
    "print(a_tuple)\n",
    "print(\"Print a_tuple[0]:\",a_tuple[0]) # index starts with 0\n",
    "print(\"a_tuple[-1]:\", a_tuple[-1])     # Negative indexing Works\n",
    "print(\"a_tuple[1:3]:\",a_tuple[1:3])    # slicing also works\n"
   ]
  },
  {
   "cell_type": "markdown",
   "metadata": {},
   "source": []
  }
 ],
 "metadata": {
  "kernelspec": {
   "display_name": "Python 3",
   "language": "python",
   "name": "python3"
  },
  "language_info": {
   "codemirror_mode": {
    "name": "ipython",
    "version": 3
   },
   "file_extension": ".py",
   "mimetype": "text/x-python",
   "name": "python",
   "nbconvert_exporter": "python",
   "pygments_lexer": "ipython3",
   "version": "3.12.4"
  }
 },
 "nbformat": 4,
 "nbformat_minor": 2
}
