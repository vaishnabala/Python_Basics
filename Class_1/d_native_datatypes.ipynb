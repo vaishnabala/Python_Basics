{
 "cells": [
  {
   "cell_type": "markdown",
   "metadata": {},
   "source": [
    "Native Datatypes:\n",
    "1.Booleans are either True or False.\n",
    "2.Numbers can be integers (1 and 2), floats (1.1 and 1.2), fractions (1/2 and 2/3), or even complex numbers.\n",
    "3.Strings are sequences of Unicode characters, e.g. an html document.\n",
    "4.Bytes and byte arrays, e.g. a jpeg image file.\n",
    "5.Lists are ordered sequences of values.\n",
    "6.Tuples are ordered, immutable sequences of values.\n",
    "7.Sets are unordered bags of values.\n",
    "8.Dictionaries are unordered bags of key-value pairs."
   ]
  },
  {
   "cell_type": "code",
   "execution_count": 12,
   "metadata": {},
   "outputs": [
    {
     "data": {
      "text/plain": [
       "-1"
      ]
     },
     "execution_count": 12,
     "metadata": {},
     "output_type": "execute_result"
    }
   ],
   "source": [
    "size = -1"
   ]
  },
  {
   "cell_type": "code",
   "execution_count": 5,
   "metadata": {},
   "outputs": [
    {
     "data": {
      "text/plain": [
       "False"
      ]
     },
     "execution_count": 5,
     "metadata": {},
     "output_type": "execute_result"
    }
   ],
   "source": [
    "size>0"
   ]
  },
  {
   "cell_type": "code",
   "execution_count": 7,
   "metadata": {},
   "outputs": [
    {
     "data": {
      "text/plain": [
       "True"
      ]
     },
     "execution_count": 7,
     "metadata": {},
     "output_type": "execute_result"
    }
   ],
   "source": [
    "size<0"
   ]
  },
  {
   "cell_type": "code",
   "execution_count": 11,
   "metadata": {},
   "outputs": [
    {
     "data": {
      "text/plain": [
       "2"
      ]
     },
     "execution_count": 11,
     "metadata": {},
     "output_type": "execute_result"
    }
   ],
   "source": [
    "True + True"
   ]
  },
  {
   "cell_type": "code",
   "execution_count": 10,
   "metadata": {},
   "outputs": [
    {
     "data": {
      "text/plain": [
       "True"
      ]
     },
     "execution_count": 10,
     "metadata": {},
     "output_type": "execute_result"
    }
   ],
   "source": [
    "bool (True + True)"
   ]
  },
  {
   "cell_type": "code",
   "execution_count": 14,
   "metadata": {},
   "outputs": [
    {
     "name": "stdout",
     "output_type": "stream",
     "text": [
      "2\n",
      "1\n",
      "1\n",
      "0\n"
     ]
    }
   ],
   "source": [
    "print(True + True)\n",
    "print(True + False)\n",
    "print(True -False)\n",
    "print(True * False)\n",
    "# print(True / False) # Error"
   ]
  },
  {
   "cell_type": "code",
   "execution_count": 15,
   "metadata": {},
   "outputs": [
    {
     "name": "stdout",
     "output_type": "stream",
     "text": [
      "True\n",
      "True\n",
      "True\n",
      "False\n"
     ]
    }
   ],
   "source": [
    "print(bool (True + True))\n",
    "print(bool (True + False))\n",
    "print(bool (True -False))\n",
    "print(bool (True * False))"
   ]
  },
  {
   "cell_type": "markdown",
   "metadata": {},
   "source": [
    "<h1>Numbers</h1>"
   ]
  },
  {
   "cell_type": "code",
   "execution_count": 7,
   "metadata": {},
   "outputs": [
    {
     "name": "stdout",
     "output_type": "stream",
     "text": [
      "The Datatype of '1' is <class 'int'>\n",
      "Is the given input integer? True\n"
     ]
    }
   ],
   "source": [
    "print(\"The Datatype of '1' is\", type(1))\n",
    "print(\"Is the given input integer?\",isinstance(1, int))"
   ]
  },
  {
   "cell_type": "code",
   "execution_count": 8,
   "metadata": {},
   "outputs": [
    {
     "name": "stdout",
     "output_type": "stream",
     "text": [
      "The Datatype of '2.0' is <class 'float'>\n",
      "Is the given input integer? True\n"
     ]
    }
   ],
   "source": [
    "print(\"The Datatype of '2.0' is\", type(2.0))\n",
    "print(\"Is the given input integer?\",isinstance(1.0, float))"
   ]
  },
  {
   "cell_type": "markdown",
   "metadata": {},
   "source": [
    "Coercing Integers to Floats and Vice-Versa"
   ]
  },
  {
   "cell_type": "code",
   "execution_count": 12,
   "metadata": {},
   "outputs": [
    {
     "name": "stdout",
     "output_type": "stream",
     "text": [
      "2.0\n",
      "2\n",
      "2\n",
      "2.5346345354333333\n",
      "-2\n",
      "-2.0\n"
     ]
    }
   ],
   "source": [
    "print(float(2))  # converts '2' to float 2.0\n",
    "print(int(2.0))  # converts'2.0' to int 2\n",
    "print(int(2.5346345354))  # converts'2.5346345354' to int 2 - cons- losing precision\n",
    "print(float(2.534634535433333444455556666))  #Floating point numbers are accurate to 15 decimal places.\n",
    "print(int(-2.5)) # converts'-2.5' to int -2\n",
    "print(float(-2)) # converts'-2' to int -2.0\n",
    "\n",
    "''' Key takeaways:\n",
    "1.Floating point numbers are accurate to 15 decimal points\n",
    "2.int() trucates the values after point - not a floor or round function.\n",
    "'''"
   ]
  },
  {
   "cell_type": "markdown",
   "metadata": {},
   "source": [
    "Operators"
   ]
  },
  {
   "cell_type": "code",
   "execution_count": 17,
   "metadata": {},
   "outputs": [
    {
     "name": "stdout",
     "output_type": "stream",
     "text": [
      "5.5\n",
      "5\n",
      "-6\n",
      "5.0\n",
      "121\n",
      "1\n"
     ]
    }
   ],
   "source": [
    "print(11/2)\n",
    "print(11//2) # integer division\n",
    "print(-11//2)\n",
    "print(11.0//2)\n",
    "print(11**2) # square\n",
    "print(11%2)"
   ]
  },
  {
   "cell_type": "markdown",
   "metadata": {},
   "source": [
    "Fractions"
   ]
  },
  {
   "cell_type": "code",
   "execution_count": 25,
   "metadata": {},
   "outputs": [
    {
     "data": {
      "text/plain": [
       "Fraction(1, 3)"
      ]
     },
     "execution_count": 25,
     "metadata": {},
     "output_type": "execute_result"
    }
   ],
   "source": [
    "import fractions\n",
    "x = fractions.Fraction(1, 3)\n",
    "x"
   ]
  },
  {
   "cell_type": "code",
   "execution_count": 20,
   "metadata": {},
   "outputs": [
    {
     "data": {
      "text/plain": [
       "Fraction(2, 3)"
      ]
     },
     "execution_count": 20,
     "metadata": {},
     "output_type": "execute_result"
    }
   ],
   "source": [
    "x * 2"
   ]
  },
  {
   "cell_type": "code",
   "execution_count": 21,
   "metadata": {},
   "outputs": [
    {
     "data": {
      "text/plain": [
       "Fraction(3, 2)"
      ]
     },
     "execution_count": 21,
     "metadata": {},
     "output_type": "execute_result"
    }
   ],
   "source": [
    "fractions.Fraction(6, 4)"
   ]
  },
  {
   "cell_type": "code",
   "execution_count": 28,
   "metadata": {},
   "outputs": [
    {
     "data": {
      "text/plain": [
       "3.141592653589793"
      ]
     },
     "execution_count": 28,
     "metadata": {},
     "output_type": "execute_result"
    }
   ],
   "source": [
    "import math\n",
    "math.pi"
   ]
  },
  {
   "cell_type": "code",
   "execution_count": 29,
   "metadata": {},
   "outputs": [
    {
     "data": {
      "text/plain": [
       "1.0"
      ]
     },
     "execution_count": 29,
     "metadata": {},
     "output_type": "execute_result"
    }
   ],
   "source": [
    "math.sin(math.pi / 2)"
   ]
  },
  {
   "cell_type": "code",
   "execution_count": 30,
   "metadata": {},
   "outputs": [
    {
     "data": {
      "text/plain": [
       "0.9999999999999999"
      ]
     },
     "execution_count": 30,
     "metadata": {},
     "output_type": "execute_result"
    }
   ],
   "source": [
    "math.tan(math.pi / 4)"
   ]
  },
  {
   "cell_type": "code",
   "execution_count": 31,
   "metadata": {},
   "outputs": [],
   "source": [
    "def is_it_true(anything):\n",
    "    if anything:\n",
    "        print(\"yes, it's true\")\n",
    "    else:\n",
    "        print(\"no, it's false\")"
   ]
  },
  {
   "cell_type": "code",
   "execution_count": 37,
   "metadata": {},
   "outputs": [
    {
     "name": "stdout",
     "output_type": "stream",
     "text": [
      "yes, it's true\n",
      "yes, it's true\n",
      "no, it's false\n",
      "yes, it's true\n",
      "no, it's false\n"
     ]
    }
   ],
   "source": [
    "is_it_true(1)\n",
    "is_it_true(-1)\n",
    "is_it_true(0)\n",
    "is_it_true(0.1)\n",
    "is_it_true(0.0)"
   ]
  },
  {
   "cell_type": "code",
   "execution_count": 38,
   "metadata": {},
   "outputs": [
    {
     "name": "stdout",
     "output_type": "stream",
     "text": [
      "yes, it's true\n",
      "no, it's false\n"
     ]
    }
   ],
   "source": [
    "import fractions\n",
    "is_it_true(fractions.Fraction(1, 2)) \n",
    "is_it_true(fractions.Fraction(0, 1))"
   ]
  },
  {
   "cell_type": "markdown",
   "metadata": {},
   "source": [
    "Lists"
   ]
  },
  {
   "cell_type": "code",
   "execution_count": 12,
   "metadata": {},
   "outputs": [
    {
     "name": "stdout",
     "output_type": "stream",
     "text": [
      "['a', 'b', 'Python', 'z', 'example']\n",
      "<class 'list'>\n",
      "[]\n",
      "<class 'list'>\n",
      "['a', 'b', 'Python', 'z', 'example']\n",
      "<class 'list'>\n"
     ]
    }
   ],
   "source": [
    "a_list = ['a', 'b', 'Python', 'z', 'example']  # one way to create list\n",
    "print(a_list)\n",
    "print(type(a_list))\n",
    "\n",
    "b_list = []       # first way of creation of list with no elements\n",
    "print(b_list)\n",
    "print(type(b_list))\n",
    "\n",
    "\n",
    "c_list = list(a_list)     # second way to create a list\n",
    "print(c_list) # print elements\n",
    "print(type(c_list))"
   ]
  },
  {
   "cell_type": "code",
   "execution_count": 41,
   "metadata": {},
   "outputs": [
    {
     "data": {
      "text/plain": [
       "'a'"
      ]
     },
     "execution_count": 41,
     "metadata": {},
     "output_type": "execute_result"
    }
   ],
   "source": [
    "a_list[0] "
   ]
  },
  {
   "cell_type": "code",
   "execution_count": 42,
   "metadata": {},
   "outputs": [
    {
     "data": {
      "text/plain": [
       "'example'"
      ]
     },
     "execution_count": 42,
     "metadata": {},
     "output_type": "execute_result"
    }
   ],
   "source": [
    "a_list[4]"
   ]
  },
  {
   "cell_type": "code",
   "execution_count": 43,
   "metadata": {},
   "outputs": [
    {
     "data": {
      "text/plain": [
       "'example'"
      ]
     },
     "execution_count": 43,
     "metadata": {},
     "output_type": "execute_result"
    }
   ],
   "source": [
    "a_list[-1]"
   ]
  },
  {
   "cell_type": "code",
   "execution_count": 44,
   "metadata": {},
   "outputs": [
    {
     "data": {
      "text/plain": [
       "'mpilgrim'"
      ]
     },
     "execution_count": 44,
     "metadata": {},
     "output_type": "execute_result"
    }
   ],
   "source": [
    "a_list[-3] # a_list[-n] == a_list[len(a_list) - n]. So in this list, a_list[-3] == a_list[5 - 3] == a_list[2]."
   ]
  },
  {
   "cell_type": "code",
   "execution_count": 48,
   "metadata": {},
   "outputs": [
    {
     "name": "stdout",
     "output_type": "stream",
     "text": [
      "a_list has ['a', 'b', 'mpilgrim', 'z', 'example']\n",
      "Object id of a_list 2897319239104\n",
      "a_list[1:3]  ['b', 'mpilgrim']\n",
      "a_list[1:-1]  ['b', 'mpilgrim', 'z']\n",
      "a_list[0:3]  ['a', 'b', 'mpilgrim']\n",
      "a_list[:3]  ['a', 'b', 'mpilgrim']\n",
      "a_list[3:]  ['z', 'example']\n",
      "a_list[:]  ['a', 'b', 'mpilgrim', 'z', 'example']\n",
      "Object id of a_list[:] 2897306020672\n"
     ]
    }
   ],
   "source": [
    "print(\"a_list has\",a_list) # Displays all\n",
    "print(\"Object id of a_list\",id(a_list)) # Object id of a_list\n",
    "print(\"a_list[1:3] \",a_list[1:3])\n",
    "print(\"a_list[1:-1] \",a_list[1:-1])\n",
    "print(\"a_list[0:3] \",a_list[0:3] ) # returns first three elements from 0 not including a_list[3]\n",
    "print(\"a_list[:3] \",a_list[:3])\n",
    "print(\"a_list[3:] \",a_list[3:])\n",
    "print(\"a_list[:] \",a_list[:]) # Displays all\n",
    "print(\"Object id of a_list[:]\",id(a_list[:])) # it is not same as the first case a_list. a_list[:]is a copy of alist"
   ]
  },
  {
   "cell_type": "markdown",
   "metadata": {},
   "source": [
    "Adding items to a list - Four Ways"
   ]
  },
  {
   "cell_type": "code",
   "execution_count": 53,
   "metadata": {},
   "outputs": [
    {
     "name": "stdout",
     "output_type": "stream",
     "text": [
      "['a']\n",
      "['a', 4.0, 5]\n",
      "[2.0, 3, 'a', 4.0, 5]\n",
      "[2.0, 3, 'a', 4.0, 5, True]\n",
      "[2.0, 3, 'a', 4.0, 5, True, 'four', 'Ω']\n",
      "['Ω', 2.0, 3, 'a', 4.0, 5, True, 'four', 'Ω']\n"
     ]
    }
   ],
   "source": [
    "a_list = ['a']\n",
    "print(a_list)\n",
    "a_list = a_list + [4.0, 5] # concats two lists\n",
    "print(a_list)\n",
    "a_list =  [2.0, 3] + a_list  # concats two lists in a given order\n",
    "print(a_list)\n",
    "a_list.append(True) # appends the list at the end\n",
    "print(a_list)\n",
    "a_list.extend(['four', 'Ω']) # extends the list at the end\n",
    "print(a_list)\n",
    "a_list.insert(0, 'Ω')  # inserts at 0th position\n",
    "print(a_list)"
   ]
  },
  {
   "cell_type": "markdown",
   "metadata": {},
   "source": [
    "Append Vs Extend"
   ]
  },
  {
   "cell_type": "code",
   "execution_count": 4,
   "metadata": {},
   "outputs": [
    {
     "name": "stdout",
     "output_type": "stream",
     "text": [
      "Initial List : ['a', 'b', 'c']\n",
      "Length :  3\n",
      "\n",
      "After applying extend : ['a', 'b', 'c', 'd', 'e', 'f']\n",
      "Length after extending :  6\n",
      "\n",
      "After applying append : ['a', 'b', 'c', 'd', 'e', 'f', ['g', 'h', 'i']]\n",
      "Length after appending :  7\n",
      "\n",
      "First element of the list : a\n",
      "Last element of the list : ['g', 'h', 'i']\n"
     ]
    }
   ],
   "source": [
    "a_list = ['a','b','c']\n",
    "print(\"Initial List :\",a_list)\n",
    "print(\"Length : \",len(a_list))\n",
    "\n",
    "a_list.extend(['d','e','f'])\n",
    "print(\"\\nAfter applying extend :\",a_list)\n",
    "print(\"Length after extending : \",len(a_list))\n",
    "\n",
    "a_list.append(['g','h','i'])\n",
    "print(\"\\nAfter applying append :\",a_list)\n",
    "print(\"Length after appending : \",len(a_list))\n",
    "\n",
    "print(\"\\nFirst element of the list :\",a_list[0])\n",
    "print(\"Last element of the list :\",a_list[-1])\n"
   ]
  },
  {
   "cell_type": "code",
   "execution_count": 18,
   "metadata": {},
   "outputs": [
    {
     "name": "stdout",
     "output_type": "stream",
     "text": [
      "Count of 'c' in th list: 3\n",
      "Checking if 'c' is present in the list: True\n",
      "Checking if 'g' is present in the list: False\n",
      "Printing Index of 'c' in the list: 2\n",
      "Element not found in the list\n"
     ]
    }
   ],
   "source": [
    "a_list = ['a', 'b', 'c', 'd', 'c', 'f','a', 'b', 'c']\n",
    "print(\"Count of 'c' in th list:\",a_list.count('c'))  # 'in' - is faster than count to check the presence of an element in list\n",
    "print(\"Checking if 'c' is present in the list:\",'c'in a_list) # returns in bool datatype\n",
    "print(\"Checking if 'g' is present in the list:\",'g' in a_list) # returns in bool datatype\n",
    "print(\"Printing Index of 'c' in the list:\",a_list.index('c')) # returns the first index only\n",
    "try:\n",
    "    print(\"Printing Index of 'g' in the list:\",a_list.index('g')) # returns the first index only\n",
    "except ValueError:\n",
    "    print(\"Element not found in the list\")"
   ]
  },
  {
   "cell_type": "markdown",
   "metadata": {},
   "source": [
    "Removing elements\n",
    "1. Delete\n",
    "2. Remove\n",
    "3. Pop\n"
   ]
  },
  {
   "cell_type": "markdown",
   "metadata": {},
   "source": [
    "## 1. Delete"
   ]
  },
  {
   "cell_type": "code",
   "execution_count": 21,
   "metadata": {},
   "outputs": [
    {
     "name": "stdout",
     "output_type": "stream",
     "text": [
      "a_list: ['a', 'b', 'c', 'd', 'e']\n",
      "a_list[1]: b\n",
      "a_list: ['a', 'c', 'd', 'e']\n",
      "\n",
      "a_list[1]: c\n"
     ]
    }
   ],
   "source": [
    "a_list = ['a', 'b', 'c', 'd', 'e']\n",
    "print(\"a_list:\", a_list)\n",
    "print(\"a_list[1]:\", a_list[1])\n",
    "del a_list[1]                     # Deletes the element in index 1,after deleting index 1 does not result in an error- next element occupies its space\n",
    "print(\"a_list:\", a_list)          # the gap is filled by next element\n",
    "print(\"a_list[1]:\", a_list[1])   "
   ]
  },
  {
   "cell_type": "markdown",
   "metadata": {},
   "source": [
    "## 2.Remove"
   ]
  },
  {
   "cell_type": "code",
   "execution_count": 23,
   "metadata": {},
   "outputs": [
    {
     "name": "stdout",
     "output_type": "stream",
     "text": [
      "a_list: ['b', 'c', 'a', 'e']\n",
      "a_list: ['b', 'c', 'e']\n",
      "the given Value is not present in the list\n"
     ]
    }
   ],
   "source": [
    "a_list = ['a', 'b', 'c', 'a', 'e']\n",
    "a_list.remove('a')  # removes First occurance of 'a'\n",
    "print(\"a_list:\", a_list)\n",
    "a_list.remove('a')  # removes First occurance of 'a' again\n",
    "print(\"a_list:\", a_list)  # indices are adjusted . Gap filling happens\n",
    "try:\n",
    "    a_list.remove('a')\n",
    "except ValueError:\n",
    "    print(\"the given Value is not present in the list\")"
   ]
  },
  {
   "cell_type": "markdown",
   "metadata": {},
   "source": [
    "## 3. Pop"
   ]
  },
  {
   "cell_type": "code",
   "execution_count": 30,
   "metadata": {},
   "outputs": [
    {
     "name": "stdout",
     "output_type": "stream",
     "text": [
      "a_list: ['a', 'b', 'c', 'a', 'e']\n",
      "Popped Item using a_list.pop(): e\n",
      "a_list: ['a', 'b', 'c', 'a']\n",
      "\n",
      "Popped Item using a_list.pop(1): b\n",
      "a_list: ['a', 'c', 'a']\n",
      "\n",
      "Cannot pop the element in the given index. No Value is present in the index\n"
     ]
    }
   ],
   "source": [
    "a_list = ['a', 'b', 'c', 'a', 'e']\n",
    "print(\"a_list:\", a_list)\n",
    "print(\"Popped Item using a_list.pop():\", a_list.pop()) # removes the last element as no element specified in the argment and returns the value it removed.\n",
    "print(\"a_list:\", a_list)\n",
    "\n",
    "print(\"\\nPopped Item using a_list.pop(1):\", a_list.pop(1)) # removes element in index 1 and fills the gap and returns the value it removed.\n",
    "print(\"a_list:\", a_list)\n",
    "try:    \n",
    "    a_list.pop(4)        # no such index\n",
    "except IndexError:\n",
    "    print(\"\\nCannot pop the element in the given index. No Value is present in the index\")\n"
   ]
  },
  {
   "cell_type": "markdown",
   "metadata": {},
   "source": [
    "### Boolean Datatype"
   ]
  },
  {
   "cell_type": "code",
   "execution_count": 32,
   "metadata": {},
   "outputs": [
    {
     "name": "stdout",
     "output_type": "stream",
     "text": [
      "no, it's false\n",
      "yes, it's true\n",
      "yes, it's true\n"
     ]
    }
   ],
   "source": [
    "def is_it_true(anything):\n",
    "    if anything:\n",
    "        print(\"yes, it's true\")\n",
    "    else:\n",
    "        print(\"no, it's false\")\n",
    "\n",
    "is_it_true([])  # An empty list is false\n",
    "\n",
    "is_it_true(['a'])  # list is not empty, value doen't matter, value exists.\n",
    "\n",
    "is_it_true([False])  # list is not empty, value doen't matter, value exists.\n"
   ]
  },
  {
   "cell_type": "markdown",
   "metadata": {},
   "source": [
    "## Tuple\n",
    "# Immutable List\n",
    "# It cant be changed Once it is created\n",
    "# append, Extend, insert,remove pop - will not work here\n",
    "# By slicing you can create a new one\n",
    "\n",
    "So what are tuples good for?\n",
    "\n",
    "* Tuples are faster than lists. If you’re defining a constant set of values and all you’re ever going to do with it is iterate through it, use a tuple instead of a list.\n",
    "* It makes your code safer if you “write-protect” data that doesn’t need to be changed. Using a tuple instead of a list is like having an implied assert statement that shows this data is constant, and that special thought (and a specific function) is required to override that.\n",
    "* Some tuples can be used as dictionary keys (specifically, tuples that contain immutable values like strings, numbers, and other tuples). \n",
    "* Lists can never be used as dictionary keys, because lists are not immutable."
   ]
  },
  {
   "cell_type": "code",
   "execution_count": 8,
   "metadata": {},
   "outputs": [
    {
     "name": "stdout",
     "output_type": "stream",
     "text": [
      "first_tuple:  <class 'tuple'>\n",
      "second_tuple:  <class 'tuple'>\n",
      "('a', 'b', 'c', 'a', 'e')\n",
      "Print a_tuple[0]: a\n",
      "a_tuple[-1]: e\n",
      "a_tuple[1:3]: ('b', 'c')\n"
     ]
    }
   ],
   "source": [
    "first_tuple =  () # first way to create an empty tuple \n",
    "print(\"first_tuple: \",type(first_tuple) )\n",
    "second_tuple = tuple()  # first way to create tuple - can coerce from any type\n",
    "print(\"second_tuple: \",type(second_tuple))\n",
    "\n",
    "a_tuple = ('a', 'b', 'c', 'a', 'e')  # Just like list but the bracket is paranthesis()\n",
    "print(a_tuple)\n",
    "print(\"Print a_tuple[0]:\",a_tuple[0]) # index starts with 0\n",
    "print(\"a_tuple[-1]:\", a_tuple[-1])     # Negative indexing Works\n",
    "print(\"a_tuple[1:3]:\",a_tuple[1:3])    # slicing also works"
   ]
  },
  {
   "cell_type": "markdown",
   "metadata": {},
   "source": [
    "Other operations\n",
    "Check index\n",
    "Check if the element is present"
   ]
  },
  {
   "cell_type": "code",
   "execution_count": 34,
   "metadata": {},
   "outputs": [
    {
     "name": "stdout",
     "output_type": "stream",
     "text": [
      "a_tuple.index('a') 0\n",
      "Check if'z' is in tuple: False\n"
     ]
    }
   ],
   "source": [
    "print(\"a_tuple.index('a'):\",a_tuple.index('a'))\n",
    "print(\"Check if'z' is in tuple:\",'z' in a_tuple)"
   ]
  },
  {
   "cell_type": "markdown",
   "metadata": {},
   "source": [
    "## Tuples in Boolean Context"
   ]
  },
  {
   "cell_type": "code",
   "execution_count": null,
   "metadata": {},
   "outputs": [],
   "source": [
    "def is_it_true(anything):\n",
    "    if anything:\n",
    "        print(\"yes, it's true\")\n",
    "    else:\n",
    "        print(\"no, it's false\")\n",
    "\n",
    "is_it_true(())     # No elements is false in bool\n",
    "is_it_true(('a','b'))  # Have some elements, what elements - you dont have to worry\n",
    "is_it_true((False,))   # Have elements inside tuple? yes but what that comma - it denotes its not a single value its a tuple\n",
    "\n",
    "#checl the type with comma and without comma\n",
    "print(type((False)))\n",
    "print(type((False,)))\n",
    "        \n"
   ]
  },
  {
   "cell_type": "markdown",
   "metadata": {},
   "source": [
    "# Assigning multiple values at once (Which is also possible in List)"
   ]
  },
  {
   "cell_type": "code",
   "execution_count": 37,
   "metadata": {},
   "outputs": [],
   "source": [
    "v = (2,'a',True)\n",
    "(a,b,x) = v"
   ]
  },
  {
   "cell_type": "code",
   "execution_count": 38,
   "metadata": {},
   "outputs": [
    {
     "name": "stdout",
     "output_type": "stream",
     "text": [
      "0\n",
      "1\n",
      "6\n"
     ]
    }
   ],
   "source": [
    "(MONDAY, TUESDAY, WEDNESDAY, THURSDAY, FRIDAY, SATURDAY, SUNDAY) = range(7)\n",
    "print(MONDAY)\n",
    "print(TUESDAY)\n",
    "print(SUNDAY)\n",
    "#\tThe built-in range() function constructs a sequence of integers."
   ]
  },
  {
   "cell_type": "markdown",
   "metadata": {},
   "source": [
    "## SETS\n",
    "# Unordered\n",
    "# Sets are bags of unique values. If you try to add a value that already exists in the set, it will do nothing. It won’t raise an error; it’s just a no-op.\n",
    "# allows us to do set operations"
   ]
  },
  {
   "cell_type": "code",
   "execution_count": 5,
   "metadata": {},
   "outputs": [
    {
     "name": "stdout",
     "output_type": "stream",
     "text": [
      "Print a_set: {1}\n",
      "Type: <class 'set'>\n",
      "Print a_set: {1, 2}\n"
     ]
    }
   ],
   "source": [
    "a_set = {1}\n",
    "print(\"Print a_set:\",a_set)\n",
    "print(\"Type:\",type(a_set))\n",
    "a_set = {1, 2} \n",
    "print(\"Print a_set:\",a_set)"
   ]
  },
  {
   "cell_type": "code",
   "execution_count": 5,
   "metadata": {},
   "outputs": [
    {
     "name": "stdout",
     "output_type": "stream",
     "text": [
      "Print first_set: <class 'set'>\n",
      "Print a_set: {False, 1, 2, 'a', 'b'}\n",
      "Type: <class 'set'>\n",
      "\n",
      "Print b_set: {False, 'y', 8, 9, 'x'}\n",
      "Type: <class 'set'>\n",
      "\n",
      "Print new_one: {}\n",
      "Type: <class 'dict'>\n"
     ]
    }
   ],
   "source": [
    "a_list = ['a','b',1,2,True,False]\n",
    "\n",
    "first_set = set() #First way to create set\n",
    "print(\"Print first_set:\",type(first_set) )\n",
    "\n",
    "a_set = set(a_list)  # Second way to create set from list\n",
    "print(\"Print a_set:\",a_set) \n",
    "print(\"Type:\",type(a_set))\n",
    "\n",
    "b_set = {'x','y',9,8,False}\n",
    "print(\"\\nPrint b_set:\",b_set) \n",
    "print(\"Type:\",type(b_set))\n",
    "# The print shows that the set is unordered.\n",
    "\n",
    "new_one = {}  # this creates Dictionary not SET - We cant create empty set this way\n",
    "print(\"\\nPrint new_one:\",new_one)\n",
    "print(\"Type:\",type(new_one))\n"
   ]
  },
  {
   "cell_type": "markdown",
   "metadata": {},
   "source": [
    "Inserting values ->1. Add , 2. Update"
   ]
  },
  {
   "cell_type": "code",
   "execution_count": 12,
   "metadata": {},
   "outputs": [
    {
     "name": "stdout",
     "output_type": "stream",
     "text": [
      "Print a_set: {1, 2}\n",
      "Print a_set after including 4: {1, 2, 4}\n",
      "length: 3\n",
      "Print a_set: {1, 2, 4}\n"
     ]
    }
   ],
   "source": [
    "a_set = {1, 2}\n",
    "print(\"Print a_set:\",a_set) \n",
    "a_set.add(4)\n",
    "print(\"Print a_set after including 4:\",a_set) \n",
    "print(\"length:\",len(a_set)) \n",
    "a_set.add(1)\n",
    "print(\"Print a_set:\",a_set) # no change as set already has element called 1\n",
    "# Remember set does not allow duplicates"
   ]
  },
  {
   "cell_type": "code",
   "execution_count": 16,
   "metadata": {},
   "outputs": [
    {
     "name": "stdout",
     "output_type": "stream",
     "text": [
      "Print a_set: {1, 2, 3}\n",
      "Print a_set.update({2, 4, 6}:     {1, 2, 3, 4, 6}\n",
      "Print a_set.update({3, 6, 9}, {1, 2, 3, 5, 8, 13}):     {1, 2, 3, 4, 5, 6, 8, 9, 13}\n",
      "Print a_set.update([10, 20, 30]):     {1, 2, 3, 4, 5, 6, 8, 9, 10, 13, 20, 30}\n"
     ]
    }
   ],
   "source": [
    "a_set = {1, 2, 3}\n",
    "print(\"Print a_set:\",a_set) \n",
    "a_set.update({2, 4, 6})\n",
    "print(\"Print a_set.update({2, 4, 6}: \",a_set) \n",
    "a_set.update({3, 6, 9}, {1, 2, 3, 5, 8, 13})\n",
    "print(\"Print a_set.update({3, 6, 9}, {1, 2, 3, 5, 8, 13}): \",a_set) \n",
    "a_set.update([10, 20, 30])\n",
    "print(\"Print a_set.update([10, 20, 30]): \",a_set) "
   ]
  },
  {
   "cell_type": "markdown",
   "metadata": {},
   "source": [
    "# Remove Items 1.discard 2. Remove 3. pop"
   ]
  },
  {
   "cell_type": "code",
   "execution_count": 18,
   "metadata": {},
   "outputs": [
    {
     "name": "stdout",
     "output_type": "stream",
     "text": [
      "Print a_set: {1, 3, 36, 6, 10, 45, 15, 21, 28}\n",
      "Print a_set after removing 10: {1, 3, 36, 6, 45, 15, 21, 28}\n",
      "Print a_set: {1, 3, 36, 6, 45, 15, 21, 28}\n",
      "Print a_set: {1, 3, 36, 6, 45, 15, 28}\n",
      "Print a_set: {1, 3, 36, 6, 45, 15, 28}\n"
     ]
    }
   ],
   "source": [
    "a_set = {1, 3, 6, 10, 15, 21, 28, 36, 45}\n",
    "print(\"Print a_set:\",a_set) \n",
    "\n",
    "a_set.discard(10)\n",
    "print(\"Print a_set after removing 10:\",a_set) \n",
    "\n",
    "a_set.discard(10)\n",
    "print(\"Print a_set:\",a_set) \n",
    "# If you call the discard() method with a value that doesn’t exist in the set, \n",
    "# it does nothing. No error; it’s just a no-op.\n",
    "a_set.remove(21)\n",
    "print(\"Print a_set:\",a_set) \n",
    "\n",
    "a_set.remove(21)\n",
    "print(\"Print a_set:\",a_set) \n",
    "#Here’s the difference: if the value doesn’t exist in the set, \n",
    "# the remove() method raises a KeyError exception."
   ]
  },
  {
   "cell_type": "code",
   "execution_count": 3,
   "metadata": {},
   "outputs": [
    {
     "name": "stdout",
     "output_type": "stream",
     "text": [
      "a_set.pop():  3\n",
      "a_set.pop():  36\n",
      "a_set.pop():  6\n",
      "a_set.clear():  None\n"
     ]
    }
   ],
   "source": [
    "a_set = {1, 3, 6, 10, 15, 21, 28, 36, 45}\n",
    "a_set.pop()\n",
    "print(\"a_set.pop(): \", a_set.pop())\n",
    "print(\"a_set.pop(): \", a_set.pop())\n",
    "print(\"a_set.pop(): \", a_set.pop())\n",
    "print(\"a_set.clear(): \", a_set.clear())\n",
    "a_set.clear()\n",
    "#print(\"a_set.pop(): \", a_set.pop())\n",
    "# No Elements to print"
   ]
  },
  {
   "cell_type": "code",
   "execution_count": 13,
   "metadata": {},
   "outputs": [
    {
     "name": "stdout",
     "output_type": "stream",
     "text": [
      "True\n",
      "False\n",
      "{1, 2, 195, 4, 5, 3, 6, 8, 9, 12, 76, 15, 17, 18, 21, 30, 51, 127}\n",
      "{2, 5, 9, 12, 21}\n",
      "{195, 4, 76, 51, 30, 127}\n",
      "{1, 3, 195, 6, 4, 8, 76, 15, 17, 18, 51, 30, 127}\n"
     ]
    }
   ],
   "source": [
    "a_set = {2, 4, 5, 9, 12, 21, 30, 51, 76, 127, 195}\n",
    "\n",
    "print(30 in a_set) \n",
    "# To test whether a value is a member of a set, \n",
    "# use the in operator. This works the same as lists.\n",
    "\n",
    "print(31 in a_set)\n",
    "\n",
    "b_set = {1, 2, 3, 5, 6, 8, 9, 12, 15, 17, 18, 21}\n",
    "print(a_set.union(b_set)) \n",
    "#The union() method returns a new set containing all \n",
    "# the elements that are in either set.\n",
    "\n",
    "print(a_set.intersection(b_set))\n",
    "#The intersection() method returns a new \n",
    "# set containing all the elements that are in both sets.\n",
    "\n",
    "print(a_set.difference(b_set))\n",
    "#The difference() method returns a new set containing \n",
    "# all the elements that are in a_set but not b_set.\n",
    "\n",
    "print(a_set.symmetric_difference(b_set))\n"
   ]
  },
  {
   "cell_type": "code",
   "execution_count": 1,
   "metadata": {},
   "outputs": [
    {
     "name": "stdout",
     "output_type": "stream",
     "text": [
      "True\n",
      "True\n",
      "None\n",
      "False\n",
      "False\n"
     ]
    }
   ],
   "source": [
    "a_set = {1, 2, 3}\n",
    "b_set = {1, 2, 3, 4}\n",
    "print(a_set.issubset(b_set))\n",
    "print(b_set.issuperset(a_set))\n",
    "print(a_set.add(5))\n",
    "print(a_set.issubset(b_set))\n",
    "print(b_set.issuperset(a_set))"
   ]
  },
  {
   "cell_type": "markdown",
   "metadata": {},
   "source": [
    "# see how bool works with sets\n"
   ]
  },
  {
   "cell_type": "code",
   "execution_count": 2,
   "metadata": {},
   "outputs": [
    {
     "name": "stdout",
     "output_type": "stream",
     "text": [
      "no, it's false\n",
      "None\n",
      "yes, it's true\n",
      "None\n",
      "yes, it's true\n",
      "None\n"
     ]
    }
   ],
   "source": [
    "def is_it_true(anything):\n",
    "    if anything:\n",
    "        print(\"yes, it's true\")\n",
    "    else:\n",
    "        print(\"no, it's false\")\n",
    "\n",
    "print(is_it_true(set()))\n",
    "print(is_it_true({'a'}))\n",
    "print(is_it_true({False}))"
   ]
  },
  {
   "cell_type": "markdown",
   "metadata": {},
   "source": [
    "## Dictionary\n",
    "-Python 3.7 dictionaries are Ordered which can retain the order or insertion"
   ]
  },
  {
   "cell_type": "code",
   "execution_count": 17,
   "metadata": {},
   "outputs": [
    {
     "name": "stdout",
     "output_type": "stream",
     "text": [
      "<class 'dict'>\n",
      "<class 'dict'>\n",
      "{'server': 'db.diveintopython3.org', 'database': 'mysql'}\n",
      "db.diveintopython3.org\n",
      "mysql\n"
     ]
    }
   ],
   "source": [
    "# create dictionary with two items\n",
    "aa_dict = {}\n",
    "print(type(aa_dict))\n",
    "b_dict = dict()\n",
    "print(type(b_dict))\n",
    "a_dict = {'server': 'db.diveintopython3.org', 'database': 'mysql'}\n",
    "print(a_dict)\n",
    "#'server' is a key, and its associated value, referenced by a_dict['server'], \n",
    "# is 'db.diveintopython3.org'.\n",
    "print(a_dict['server'])\n",
    "#'database' is a key, and its associated value, referenced by a_dict['database'], \n",
    "# is 'mysql'.\n",
    "print(a_dict['database'])\n",
    "#a_dict['db.diveintopython3.org'] # uncomment this line and test\n",
    "#You can get values by key, but you can’t get keys by value. So a_dict['server'] is 'db.diveintopython3.org', but a_dict['db.diveintopython3.org'] raises an exception, because 'db.diveintopython3.org' is not a key."
   ]
  },
  {
   "cell_type": "code",
   "execution_count": 10,
   "metadata": {},
   "outputs": [
    {
     "name": "stdout",
     "output_type": "stream",
     "text": [
      "{'server': 'db.diveintopython3.org', 'database': 'blog'}\n",
      "{'server': 'db.diveintopython3.org', 'database': 'blog', 'user': 'mark'}\n",
      "{'server': 'db.diveintopython3.org', 'database': 'blog', 'user': 'dora'}\n",
      "{'server': 'db.diveintopython3.org', 'database': 'blog', 'user': 'dora', 'User': 'mark'}\n"
     ]
    }
   ],
   "source": [
    "a_dict = {'server': 'db.diveintopython3.org', 'database': 'mysql'}\n",
    "a_dict['database'] = 'blog' \n",
    "# You can not have duplicate keys in a dictionary. \n",
    "#Assigning a value to an existing key will wipe out the old value.\n",
    "print(a_dict)\n",
    "a_dict['user'] = 'mark'\n",
    "# New key pair can be added any time. its termed as modification\n",
    "print(a_dict)\n",
    "\n",
    "a_dict['user'] = 'dora'\n",
    "#Replaces old value with new one\n",
    "print(a_dict)\n",
    "\n",
    "a_dict['User'] = 'mark'\n",
    "# case sensitive key\n",
    "print(a_dict)"
   ]
  },
  {
   "cell_type": "code",
   "execution_count": 16,
   "metadata": {},
   "outputs": [
    {
     "name": "stdout",
     "output_type": "stream",
     "text": [
      "{1000: ['KB', 'MB', 'GB', 'TB', 'PB', 'EB', 'ZB', 'YB'], 1024: ['KiB', 'MiB', 'GiB', 'TiB', 'PiB', 'EiB', 'ZiB', 'YiB']}\n",
      "2\n",
      "True\n",
      "['KB', 'MB', 'GB', 'TB', 'PB', 'EB', 'ZB', 'YB']\n",
      "TB\n"
     ]
    }
   ],
   "source": [
    "SUFFIXES = {1000: ['KB', 'MB', 'GB', 'TB', 'PB', 'EB', 'ZB', 'YB'],\n",
    "            1024: ['KiB', 'MiB', 'GiB', 'TiB', 'PiB', 'EiB', 'ZiB', 'YiB']}\n",
    "print(SUFFIXES)\n",
    "print(len(SUFFIXES)) # len gives number of keys in dictionary\n",
    "print(1000 in SUFFIXES)\n",
    "print(SUFFIXES[1000])\n",
    "print(SUFFIXES[1000][3]) # access values using zero based index if the value has more than one item"
   ]
  },
  {
   "cell_type": "markdown",
   "metadata": {},
   "source": [
    "# Boolean data type in Dict"
   ]
  },
  {
   "cell_type": "code",
   "execution_count": 18,
   "metadata": {},
   "outputs": [
    {
     "name": "stdout",
     "output_type": "stream",
     "text": [
      "no, it's false\n",
      "yes, it's true\n"
     ]
    }
   ],
   "source": [
    "def is_it_true(anything):\n",
    "  if anything:\n",
    "    print(\"yes, it's true\")\n",
    "  else:\n",
    "    print(\"no, it's false\")\n",
    "\n",
    "is_it_true({}) # Empty dict is always false\n",
    "is_it_true({'a': 1}) # any value in dic, returns true"
   ]
  },
  {
   "cell_type": "markdown",
   "metadata": {},
   "source": [
    "## None - Special Type\n",
    "* None is a special constant in Python. It is a null value. \n",
    "* None is not the same as False. None is not 0. \n",
    "* None is not an empty string. \n",
    "* Comparing None to anything other than None will always return False.\n",
    "* None is the only null value. \n",
    "* It has its own datatype (NoneType). \n",
    "* You can assign None to any variable, but you can not create other NoneType objects. \n",
    "* All variables whose value is None are equal to each other."
   ]
  },
  {
   "cell_type": "code",
   "execution_count": 21,
   "metadata": {},
   "outputs": [
    {
     "name": "stdout",
     "output_type": "stream",
     "text": [
      "<class 'NoneType'>\n",
      "False\n",
      "False\n",
      "False\n",
      "True\n",
      "True\n",
      "True\n"
     ]
    }
   ],
   "source": [
    "print(type(None))\n",
    "print(None == False)\n",
    "print(None == 0)\n",
    "print(None == '')\n",
    "print(None == None)\n",
    "x = None # assigning None value to variable x\n",
    "print(x == None)\n",
    "y = None\n",
    "print(x == y)"
   ]
  },
  {
   "cell_type": "markdown",
   "metadata": {},
   "source": [
    "# Bool with None context"
   ]
  },
  {
   "cell_type": "code",
   "execution_count": 22,
   "metadata": {},
   "outputs": [
    {
     "name": "stdout",
     "output_type": "stream",
     "text": [
      "no, it's false\n",
      "yes, it's true\n"
     ]
    }
   ],
   "source": [
    "def is_it_true(anything):\n",
    "  if anything:\n",
    "    print(\"yes, it's true\")\n",
    "  else:\n",
    "    print(\"no, it's false\")\n",
    "\n",
    "is_it_true(None)\n",
    "is_it_true(not None)"
   ]
  }
 ],
 "metadata": {
  "kernelspec": {
   "display_name": "Python 3",
   "language": "python",
   "name": "python3"
  },
  "language_info": {
   "codemirror_mode": {
    "name": "ipython",
    "version": 3
   },
   "file_extension": ".py",
   "mimetype": "text/x-python",
   "name": "python",
   "nbconvert_exporter": "python",
   "pygments_lexer": "ipython3",
   "version": "3.12.4"
  }
 },
 "nbformat": 4,
 "nbformat_minor": 2
}
