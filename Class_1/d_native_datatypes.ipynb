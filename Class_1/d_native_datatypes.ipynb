{
 "cells": [
  {
   "cell_type": "markdown",
   "metadata": {},
   "source": [
    "Native Datatypes:\n",
    "1.Booleans are either True or False.\n",
    "2.Numbers can be integers (1 and 2), floats (1.1 and 1.2), fractions (1/2 and 2/3), or even complex numbers.\n",
    "3.Strings are sequences of Unicode characters, e.g. an html document.\n",
    "4.Bytes and byte arrays, e.g. a jpeg image file.\n",
    "5.Lists are ordered sequences of values.\n",
    "6.Tuples are ordered, immutable sequences of values.\n",
    "7.Sets are unordered bags of values.\n",
    "8.Dictionaries are unordered bags of key-value pairs."
   ]
  },
  {
   "cell_type": "code",
   "execution_count": 12,
   "metadata": {},
   "outputs": [
    {
     "data": {
      "text/plain": [
       "-1"
      ]
     },
     "execution_count": 12,
     "metadata": {},
     "output_type": "execute_result"
    }
   ],
   "source": [
    "size = -1"
   ]
  },
  {
   "cell_type": "code",
   "execution_count": 5,
   "metadata": {},
   "outputs": [
    {
     "data": {
      "text/plain": [
       "False"
      ]
     },
     "execution_count": 5,
     "metadata": {},
     "output_type": "execute_result"
    }
   ],
   "source": [
    "size>0"
   ]
  },
  {
   "cell_type": "code",
   "execution_count": 7,
   "metadata": {},
   "outputs": [
    {
     "data": {
      "text/plain": [
       "True"
      ]
     },
     "execution_count": 7,
     "metadata": {},
     "output_type": "execute_result"
    }
   ],
   "source": [
    "size<0"
   ]
  },
  {
   "cell_type": "code",
   "execution_count": 11,
   "metadata": {},
   "outputs": [
    {
     "data": {
      "text/plain": [
       "2"
      ]
     },
     "execution_count": 11,
     "metadata": {},
     "output_type": "execute_result"
    }
   ],
   "source": [
    "True + True"
   ]
  },
  {
   "cell_type": "code",
   "execution_count": 10,
   "metadata": {},
   "outputs": [
    {
     "data": {
      "text/plain": [
       "True"
      ]
     },
     "execution_count": 10,
     "metadata": {},
     "output_type": "execute_result"
    }
   ],
   "source": [
    "bool (True + True)"
   ]
  },
  {
   "cell_type": "code",
   "execution_count": 14,
   "metadata": {},
   "outputs": [
    {
     "name": "stdout",
     "output_type": "stream",
     "text": [
      "2\n",
      "1\n",
      "1\n",
      "0\n"
     ]
    }
   ],
   "source": [
    "print(True + True)\n",
    "print(True + False)\n",
    "print(True -False)\n",
    "print(True * False)\n",
    "# print(True / False) # Error"
   ]
  },
  {
   "cell_type": "code",
   "execution_count": 15,
   "metadata": {},
   "outputs": [
    {
     "name": "stdout",
     "output_type": "stream",
     "text": [
      "True\n",
      "True\n",
      "True\n",
      "False\n"
     ]
    }
   ],
   "source": [
    "print(bool (True + True))\n",
    "print(bool (True + False))\n",
    "print(bool (True -False))\n",
    "print(bool (True * False))"
   ]
  },
  {
   "cell_type": "markdown",
   "metadata": {},
   "source": [
    "<h1>Numbers</h1>"
   ]
  },
  {
   "cell_type": "code",
   "execution_count": 7,
   "metadata": {},
   "outputs": [
    {
     "name": "stdout",
     "output_type": "stream",
     "text": [
      "The Datatype of '1' is <class 'int'>\n",
      "Is the given input integer? True\n"
     ]
    }
   ],
   "source": [
    "print(\"The Datatype of '1' is\", type(1))\n",
    "print(\"Is the given input integer?\",isinstance(1, int))"
   ]
  },
  {
   "cell_type": "code",
   "execution_count": 8,
   "metadata": {},
   "outputs": [
    {
     "name": "stdout",
     "output_type": "stream",
     "text": [
      "The Datatype of '2.0' is <class 'float'>\n",
      "Is the given input integer? True\n"
     ]
    }
   ],
   "source": [
    "print(\"The Datatype of '2.0' is\", type(2.0))\n",
    "print(\"Is the given input integer?\",isinstance(1.0, float))"
   ]
  },
  {
   "cell_type": "markdown",
   "metadata": {},
   "source": [
    "Coercing Integers to Floats and Vice-Versa"
   ]
  },
  {
   "cell_type": "code",
   "execution_count": 12,
   "metadata": {},
   "outputs": [
    {
     "name": "stdout",
     "output_type": "stream",
     "text": [
      "2.0\n",
      "2\n",
      "2\n",
      "2.5346345354333333\n",
      "-2\n",
      "-2.0\n"
     ]
    }
   ],
   "source": [
    "print(float(2))  # converts '2' to float 2.0\n",
    "print(int(2.0))  # converts'2.0' to int 2\n",
    "print(int(2.5346345354))  # converts'2.5346345354' to int 2 - cons- losing precision\n",
    "print(float(2.534634535433333444455556666))  #Floating point numbers are accurate to 15 decimal places.\n",
    "print(int(-2.5)) # converts'-2.5' to int -2\n",
    "print(float(-2)) # converts'-2' to int -2.0\n",
    "\n",
    "''' Key takeaways:\n",
    "1.Floating point numbers are accurate to 15 decimal points\n",
    "2.int() trucates the values after point - not a floor or round function.\n",
    "'''"
   ]
  },
  {
   "cell_type": "markdown",
   "metadata": {},
   "source": [
    "Operators"
   ]
  },
  {
   "cell_type": "code",
   "execution_count": 17,
   "metadata": {},
   "outputs": [
    {
     "name": "stdout",
     "output_type": "stream",
     "text": [
      "5.5\n",
      "5\n",
      "-6\n",
      "5.0\n",
      "121\n",
      "1\n"
     ]
    }
   ],
   "source": [
    "print(11/2)\n",
    "print(11//2) # integer division\n",
    "print(-11//2)\n",
    "print(11.0//2)\n",
    "print(11**2) # square\n",
    "print(11%2)"
   ]
  },
  {
   "cell_type": "markdown",
   "metadata": {},
   "source": [
    "Fractions"
   ]
  },
  {
   "cell_type": "code",
   "execution_count": 25,
   "metadata": {},
   "outputs": [
    {
     "data": {
      "text/plain": [
       "Fraction(1, 3)"
      ]
     },
     "execution_count": 25,
     "metadata": {},
     "output_type": "execute_result"
    }
   ],
   "source": [
    "import fractions\n",
    "x = fractions.Fraction(1, 3)\n",
    "x"
   ]
  },
  {
   "cell_type": "code",
   "execution_count": 20,
   "metadata": {},
   "outputs": [
    {
     "data": {
      "text/plain": [
       "Fraction(2, 3)"
      ]
     },
     "execution_count": 20,
     "metadata": {},
     "output_type": "execute_result"
    }
   ],
   "source": [
    "x * 2"
   ]
  },
  {
   "cell_type": "code",
   "execution_count": 21,
   "metadata": {},
   "outputs": [
    {
     "data": {
      "text/plain": [
       "Fraction(3, 2)"
      ]
     },
     "execution_count": 21,
     "metadata": {},
     "output_type": "execute_result"
    }
   ],
   "source": [
    "fractions.Fraction(6, 4)"
   ]
  },
  {
   "cell_type": "code",
   "execution_count": 28,
   "metadata": {},
   "outputs": [
    {
     "data": {
      "text/plain": [
       "3.141592653589793"
      ]
     },
     "execution_count": 28,
     "metadata": {},
     "output_type": "execute_result"
    }
   ],
   "source": [
    "import math\n",
    "math.pi"
   ]
  },
  {
   "cell_type": "code",
   "execution_count": 29,
   "metadata": {},
   "outputs": [
    {
     "data": {
      "text/plain": [
       "1.0"
      ]
     },
     "execution_count": 29,
     "metadata": {},
     "output_type": "execute_result"
    }
   ],
   "source": [
    "math.sin(math.pi / 2)"
   ]
  },
  {
   "cell_type": "code",
   "execution_count": 30,
   "metadata": {},
   "outputs": [
    {
     "data": {
      "text/plain": [
       "0.9999999999999999"
      ]
     },
     "execution_count": 30,
     "metadata": {},
     "output_type": "execute_result"
    }
   ],
   "source": [
    "math.tan(math.pi / 4)"
   ]
  },
  {
   "cell_type": "code",
   "execution_count": 31,
   "metadata": {},
   "outputs": [],
   "source": [
    "def is_it_true(anything):\n",
    "    if anything:\n",
    "        print(\"yes, it's true\")\n",
    "    else:\n",
    "        print(\"no, it's false\")"
   ]
  },
  {
   "cell_type": "code",
   "execution_count": 37,
   "metadata": {},
   "outputs": [
    {
     "name": "stdout",
     "output_type": "stream",
     "text": [
      "yes, it's true\n",
      "yes, it's true\n",
      "no, it's false\n",
      "yes, it's true\n",
      "no, it's false\n"
     ]
    }
   ],
   "source": [
    "is_it_true(1)\n",
    "is_it_true(-1)\n",
    "is_it_true(0)\n",
    "is_it_true(0.1)\n",
    "is_it_true(0.0)"
   ]
  },
  {
   "cell_type": "code",
   "execution_count": 38,
   "metadata": {},
   "outputs": [
    {
     "name": "stdout",
     "output_type": "stream",
     "text": [
      "yes, it's true\n",
      "no, it's false\n"
     ]
    }
   ],
   "source": [
    "import fractions\n",
    "is_it_true(fractions.Fraction(1, 2)) \n",
    "is_it_true(fractions.Fraction(0, 1))"
   ]
  },
  {
   "cell_type": "markdown",
   "metadata": {},
   "source": [
    "Lists"
   ]
  },
  {
   "cell_type": "code",
   "execution_count": 40,
   "metadata": {},
   "outputs": [
    {
     "data": {
      "text/plain": [
       "['a', 'b', 'mpilgrim', 'z', 'example']"
      ]
     },
     "execution_count": 40,
     "metadata": {},
     "output_type": "execute_result"
    }
   ],
   "source": [
    "a_list = ['a', 'b', 'mpilgrim', 'z', 'example'] \n",
    "print(a_list)\n",
    "print(a_list)"
   ]
  },
  {
   "cell_type": "code",
   "execution_count": 41,
   "metadata": {},
   "outputs": [
    {
     "data": {
      "text/plain": [
       "'a'"
      ]
     },
     "execution_count": 41,
     "metadata": {},
     "output_type": "execute_result"
    }
   ],
   "source": [
    "a_list[0] "
   ]
  },
  {
   "cell_type": "code",
   "execution_count": 42,
   "metadata": {},
   "outputs": [
    {
     "data": {
      "text/plain": [
       "'example'"
      ]
     },
     "execution_count": 42,
     "metadata": {},
     "output_type": "execute_result"
    }
   ],
   "source": [
    "a_list[4]"
   ]
  },
  {
   "cell_type": "code",
   "execution_count": 43,
   "metadata": {},
   "outputs": [
    {
     "data": {
      "text/plain": [
       "'example'"
      ]
     },
     "execution_count": 43,
     "metadata": {},
     "output_type": "execute_result"
    }
   ],
   "source": [
    "a_list[-1]"
   ]
  },
  {
   "cell_type": "code",
   "execution_count": 44,
   "metadata": {},
   "outputs": [
    {
     "data": {
      "text/plain": [
       "'mpilgrim'"
      ]
     },
     "execution_count": 44,
     "metadata": {},
     "output_type": "execute_result"
    }
   ],
   "source": [
    "a_list[-3] # a_list[-n] == a_list[len(a_list) - n]. So in this list, a_list[-3] == a_list[5 - 3] == a_list[2]."
   ]
  },
  {
   "cell_type": "code",
   "execution_count": 48,
   "metadata": {},
   "outputs": [
    {
     "name": "stdout",
     "output_type": "stream",
     "text": [
      "a_list has ['a', 'b', 'mpilgrim', 'z', 'example']\n",
      "Object id of a_list 2897319239104\n",
      "a_list[1:3]  ['b', 'mpilgrim']\n",
      "a_list[1:-1]  ['b', 'mpilgrim', 'z']\n",
      "a_list[0:3]  ['a', 'b', 'mpilgrim']\n",
      "a_list[:3]  ['a', 'b', 'mpilgrim']\n",
      "a_list[3:]  ['z', 'example']\n",
      "a_list[:]  ['a', 'b', 'mpilgrim', 'z', 'example']\n",
      "Object id of a_list[:] 2897306020672\n"
     ]
    }
   ],
   "source": [
    "print(\"a_list has\",a_list) # Displays all\n",
    "print(\"Object id of a_list\",id(a_list)) # Object id of a_list\n",
    "print(\"a_list[1:3] \",a_list[1:3])\n",
    "print(\"a_list[1:-1] \",a_list[1:-1])\n",
    "print(\"a_list[0:3] \",a_list[0:3] ) # returns first three elements from 0 not including a_list[3]\n",
    "print(\"a_list[:3] \",a_list[:3])\n",
    "print(\"a_list[3:] \",a_list[3:])\n",
    "print(\"a_list[:] \",a_list[:]) # Displays all\n",
    "print(\"Object id of a_list[:]\",id(a_list[:])) # it is not same as the first case a_list. a_list[:]is a copy of alist"
   ]
  },
  {
   "cell_type": "markdown",
   "metadata": {},
   "source": [
    "Adding items to a list - Four Ways"
   ]
  },
  {
   "cell_type": "code",
   "execution_count": 53,
   "metadata": {},
   "outputs": [
    {
     "name": "stdout",
     "output_type": "stream",
     "text": [
      "['a']\n",
      "['a', 4.0, 5]\n",
      "[2.0, 3, 'a', 4.0, 5]\n",
      "[2.0, 3, 'a', 4.0, 5, True]\n",
      "[2.0, 3, 'a', 4.0, 5, True, 'four', 'Ω']\n",
      "['Ω', 2.0, 3, 'a', 4.0, 5, True, 'four', 'Ω']\n"
     ]
    }
   ],
   "source": [
    "a_list = ['a']\n",
    "print(a_list)\n",
    "a_list = a_list + [4.0, 5] # concats two lists\n",
    "print(a_list)\n",
    "a_list =  [2.0, 3] + a_list  # concats two lists in a given order\n",
    "print(a_list)\n",
    "a_list.append(True) # appends the list at the end\n",
    "print(a_list)\n",
    "a_list.extend(['four', 'Ω']) # extends the list at the end\n",
    "print(a_list)\n",
    "a_list.insert(0, 'Ω')  # inserts at 0th position\n",
    "print(a_list)"
   ]
  },
  {
   "cell_type": "code",
   "execution_count": null,
   "metadata": {},
   "outputs": [],
   "source": []
  }
 ],
 "metadata": {
  "kernelspec": {
   "display_name": "Python 3",
   "language": "python",
   "name": "python3"
  },
  "language_info": {
   "codemirror_mode": {
    "name": "ipython",
    "version": 3
   },
   "file_extension": ".py",
   "mimetype": "text/x-python",
   "name": "python",
   "nbconvert_exporter": "python",
   "pygments_lexer": "ipython3",
   "version": "3.11.9"
  }
 },
 "nbformat": 4,
 "nbformat_minor": 2
}
