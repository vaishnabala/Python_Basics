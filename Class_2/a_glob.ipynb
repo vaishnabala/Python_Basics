{
 "cells": [
  {
   "cell_type": "markdown",
   "metadata": {},
   "source": [
    "Listing Directories"
   ]
  },
  {
   "cell_type": "code",
   "execution_count": 3,
   "metadata": {},
   "outputs": [],
   "source": [
    "import glob \n",
    "import os # It’s an easy way to get the contents of a directory programmatically, \n",
    "#and it uses the sort of wildcards that you may already be familiar with from working on the command line."
   ]
  },
  {
   "cell_type": "code",
   "execution_count": 6,
   "metadata": {},
   "outputs": [
    {
     "data": {
      "text/plain": [
       "['CoPilot.py', 'demo1.py', 'dialogue_flow.py', 'functions.py', 'Intro.py']"
      ]
     },
     "execution_count": 6,
     "metadata": {},
     "output_type": "execute_result"
    }
   ],
   "source": [
    "os.chdir('C:/Users/bmadh/OneDrive/Documents/GitHub/GenAI/')\n",
    "import glob\n",
    "glob.glob('ShopAssistCode/*.py') # thiis module takes wildcard characters \n",
    "os.chdir('ShopAssistCode/') # change the current working directory to the examples subdirectory. The os.chdir() function can take relative pathnames.\n",
    "glob.glob('*o*.py')#can include multiple wildcards in your glob pattern"
   ]
  },
  {
   "cell_type": "markdown",
   "metadata": {},
   "source": [
    "Getting File Metadata"
   ]
  },
  {
   "cell_type": "code",
   "execution_count": 10,
   "metadata": {},
   "outputs": [
    {
     "name": "stdout",
     "output_type": "stream",
     "text": [
      "C:\\Users\\bmadh\\OneDrive\\Documents\\GitHub\\GenAI\\ShopAssistCode\n"
     ]
    },
    {
     "data": {
      "text/plain": [
       "time.struct_time(tm_year=2024, tm_mon=5, tm_mday=29, tm_hour=11, tm_min=11, tm_sec=53, tm_wday=2, tm_yday=150, tm_isdst=0)"
      ]
     },
     "execution_count": 10,
     "metadata": {},
     "output_type": "execute_result"
    }
   ],
   "source": [
    "import os\n",
    "print(os.getcwd())\n",
    "metadata = os.stat('demo1.py')\n",
    "metadata.st_mtime\n",
    "import time\n",
    "time.localtime(metadata.st_mtime)"
   ]
  }
 ],
 "metadata": {
  "kernelspec": {
   "display_name": "Python 3",
   "language": "python",
   "name": "python3"
  },
  "language_info": {
   "codemirror_mode": {
    "name": "ipython",
    "version": 3
   },
   "file_extension": ".py",
   "mimetype": "text/x-python",
   "name": "python",
   "nbconvert_exporter": "python",
   "pygments_lexer": "ipython3",
   "version": "3.12.0"
  }
 },
 "nbformat": 4,
 "nbformat_minor": 2
}
