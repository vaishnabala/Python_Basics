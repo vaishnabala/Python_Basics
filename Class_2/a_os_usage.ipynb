{
 "cells": [
  {
   "cell_type": "markdown",
   "metadata": {},
   "source": [
    "# working with current working directories"
   ]
  },
  {
   "cell_type": "code",
   "execution_count": 5,
   "metadata": {},
   "outputs": [
    {
     "name": "stdout",
     "output_type": "stream",
     "text": [
      "d:\\GitHub_Works\\Python_Basics\\Class_2\n",
      "d:\\GitHub_Works\\Python_Basics\\Class_2\n",
      "<module 'os' (frozen)>\n"
     ]
    }
   ],
   "source": [
    "import os\n",
    "print (os.getcwd())\n",
    "#os.chdir(\"D:\\Python\\\")  # input your desired path and remove comment tag at the beginning\n",
    "print (os.getcwd()) # try printing it"
   ]
  },
  {
   "cell_type": "markdown",
   "metadata": {},
   "source": [
    "# Working With Filenames and Directory Names"
   ]
  },
  {
   "cell_type": "code",
   "execution_count": 3,
   "metadata": {},
   "outputs": [
    {
     "name": "stdout",
     "output_type": "stream",
     "text": [
      "/Users/pilgrim/diveintopython3/examples/humansize.py\n",
      "/Users/pilgrim/diveintopython3/examples\\humansize.py\n",
      "C:\\Users\\User\n",
      "C:\\Users\\User\\diveintopython3\\examples\\humansize.py\n"
     ]
    }
   ],
   "source": [
    "import os\n",
    "print(os.path.join('/Users/pilgrim/diveintopython3/examples/', 'humansize.py')) # join function joins the path\n",
    "print(os.path.join('/Users/pilgrim/diveintopython3/examples', 'humansize.py'))\n",
    "# note the differences the slashed printed befor humanize.py is different in both cases.\n",
    "# based on the opearting system the slash in the path differs.So dont specify slash\n",
    "# you can use the below startegy\n",
    "print(os.path.expanduser('~'))\n",
    "print(os.path.join(os.path.expanduser('~'), 'diveintopython3', 'examples', 'humansize.py'))\n",
    "#The os.path.expanduser() function will expand a pathname that uses ~ to represent the current user’s home directory. \n",
    "# This works on any platform where users have a home directory, including Linux, Mac OS X, and Windows. \n",
    "# The returned path does not have a trailing slash, but the os.path.join() function doesn’t mind."
   ]
  },
  {
   "cell_type": "code",
   "execution_count": 11,
   "metadata": {},
   "outputs": [
    {
     "name": "stdout",
     "output_type": "stream",
     "text": [
      "('/Users/pilgrim/diveintopython3/examples', 'humansize.py')\n",
      "/Users/pilgrim/diveintopython3/examples\n",
      "humansize.py\n",
      "('humansize', '.py')\n",
      "humansize\n",
      ".py\n"
     ]
    }
   ],
   "source": [
    "pathname = '/Users/pilgrim/diveintopython3/examples/humansize.py'\n",
    "print(os.path.split(pathname)) # split- function splits the pathname and returns - directory and file - in a tuple \n",
    "\n",
    "(dirname, filename) = os.path.split(pathname) # multi variable assignment\n",
    "print(dirname)\n",
    "print(filename)\n",
    "print(os.path.splitext(filename))  # splitext - split extension funtion splits filemane and extension in a tuple\n",
    "(shortname, extension) = os.path.splitext(filename) \n",
    "print(shortname)\n",
    "print(extension)\n"
   ]
  }
 ],
 "metadata": {
  "kernelspec": {
   "display_name": "Python 3",
   "language": "python",
   "name": "python3"
  },
  "language_info": {
   "codemirror_mode": {
    "name": "ipython",
    "version": 3
   },
   "file_extension": ".py",
   "mimetype": "text/x-python",
   "name": "python",
   "nbconvert_exporter": "python",
   "pygments_lexer": "ipython3",
   "version": "3.12.4"
  }
 },
 "nbformat": 4,
 "nbformat_minor": 2
}
