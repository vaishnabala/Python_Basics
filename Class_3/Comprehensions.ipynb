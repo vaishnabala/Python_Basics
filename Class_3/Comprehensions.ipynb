{
 "cells": [
  {
   "cell_type": "code",
   "execution_count": 5,
   "metadata": {},
   "outputs": [
    {
     "name": "stdout",
     "output_type": "stream",
     "text": [
      "[2, 18, 16, 8]\n",
      "[1, 9, 8, 4]\n",
      "[2, 18, 16, 8]\n"
     ]
    }
   ],
   "source": [
    "a_list = [1, 9, 8, 4]\n",
    "print([elem * 2 for elem in a_list])  # From right to left; python interpreter loops through a_list one element at a time, \n",
    "#temporarily assigning the value of each element to the variable elem. \n",
    "#Python then applies the function elem * 2 and appends that result to the returned list.\n",
    "\n",
    "print(a_list)\n",
    "\n",
    "a_list = [elem * 2 for elem in a_list] #  this time we store the value in a list called a_list\n",
    "print(a_list)"
   ]
  },
  {
   "cell_type": "code",
   "execution_count": null,
   "metadata": {},
   "outputs": [],
   "source": [
    "import os, glob\n",
    "print(glob.glob('*.py'))\n",
    "print([os.path.realpath(f) for f in glob.glob('*.py')])\n"
   ]
  },
  {
   "cell_type": "code",
   "execution_count": null,
   "metadata": {},
   "outputs": [],
   "source": [
    "import os, glob\n",
    "print([f for f in glob.glob('*.py') if os.stat(f).st_size > 6000])"
   ]
  },
  {
   "cell_type": "code",
   "execution_count": null,
   "metadata": {},
   "outputs": [],
   "source": [
    "import os, glob\n",
    "print([(os.stat(f).st_size, os.path.realpath(f)) for f in glob.glob('*.xml')] )\n",
    "\n",
    "import humansize\n",
    "print([(humansize.approximate_size(os.stat(f).st_size), f) for f in glob.glob('*.xml')])"
   ]
  }
 ],
 "metadata": {
  "kernelspec": {
   "display_name": "Python 3",
   "language": "python",
   "name": "python3"
  },
  "language_info": {
   "codemirror_mode": {
    "name": "ipython",
    "version": 3
   },
   "file_extension": ".py",
   "mimetype": "text/x-python",
   "name": "python",
   "nbconvert_exporter": "python",
   "pygments_lexer": "ipython3",
   "version": "3.12.4"
  }
 },
 "nbformat": 4,
 "nbformat_minor": 2
}
