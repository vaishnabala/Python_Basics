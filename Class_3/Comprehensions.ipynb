{
 "cells": [
  {
   "cell_type": "code",
   "execution_count": 5,
   "metadata": {},
   "outputs": [
    {
     "name": "stdout",
     "output_type": "stream",
     "text": [
      "[2, 18, 16, 8]\n",
      "[1, 9, 8, 4]\n",
      "[2, 18, 16, 8]\n"
     ]
    }
   ],
   "source": [
    "a_list = [1, 9, 8, 4]\n",
    "print([elem * 2 for elem in a_list])  # From right to left; python interpreter loops through a_list one element at a time, \n",
    "#temporarily assigning the value of each element to the variable elem. \n",
    "#Python then applies the function elem * 2 and appends that result to the returned list.\n",
    "\n",
    "print(a_list)\n",
    "\n",
    "a_list = [elem * 2 for elem in a_list] #  this time we store the value in a list called a_list\n",
    "print(a_list)"
   ]
  }
 ],
 "metadata": {
  "kernelspec": {
   "display_name": "Python 3",
   "language": "python",
   "name": "python3"
  },
  "language_info": {
   "codemirror_mode": {
    "name": "ipython",
    "version": 3
   },
   "file_extension": ".py",
   "mimetype": "text/x-python",
   "name": "python",
   "nbconvert_exporter": "python",
   "pygments_lexer": "ipython3",
   "version": "3.12.4"
  }
 },
 "nbformat": 4,
 "nbformat_minor": 2
}
